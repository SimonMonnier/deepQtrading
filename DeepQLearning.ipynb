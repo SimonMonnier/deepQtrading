{
 "cells": [
  {
   "cell_type": "markdown",
   "id": "b5ef6fa6",
   "metadata": {},
   "source": [
    "### Import"
   ]
  },
  {
   "cell_type": "code",
   "execution_count": 1,
   "id": "c11c985e",
   "metadata": {},
   "outputs": [
    {
     "name": "stderr",
     "output_type": "stream",
     "text": [
      "C:\\Users\\smonn\\miniconda3\\envs\\deeptrading\\lib\\site-packages\\numpy\\_distributor_init.py:30: UserWarning: loaded more than 1 DLL from .libs:\n",
      "C:\\Users\\smonn\\miniconda3\\envs\\deeptrading\\lib\\site-packages\\numpy\\.libs\\libopenblas.EL2C6PLE4ZYW3ECEVIV3OXXGRN2NRFM2.gfortran-win_amd64.dll\n",
      "C:\\Users\\smonn\\miniconda3\\envs\\deeptrading\\lib\\site-packages\\numpy\\.libs\\libopenblas.WCDJNK7YVMPZQ2ME2ZZHJJRJ3JIKNDB7.gfortran-win_amd64.dll\n",
      "  warnings.warn(\"loaded more than 1 DLL from .libs:\"\n"
     ]
    }
   ],
   "source": [
    "from src.agentOpen import DQNAgentOpen, Config\n",
    "from src.TradingOpenEnv import TradingOpenEnv"
   ]
  },
  {
   "cell_type": "markdown",
   "id": "7a4f30a5",
   "metadata": {},
   "source": [
    "### Create Env"
   ]
  },
  {
   "cell_type": "code",
   "execution_count": 2,
   "id": "68db1bd9",
   "metadata": {},
   "outputs": [],
   "source": [
    "env = TradingOpenEnv(\n",
    "    dataset_path='./data/eurusd_hour.csv',\n",
    "    spread=0.0002,\n",
    "    period=26,\n",
    "    nlot=0.1,\n",
    "    episode_lenght=1)"
   ]
  },
  {
   "cell_type": "markdown",
   "id": "f7357c24",
   "metadata": {},
   "source": [
    "### Init and fit agent"
   ]
  },
  {
   "cell_type": "code",
   "execution_count": 3,
   "id": "065d2049",
   "metadata": {},
   "outputs": [],
   "source": [
    "# from src.agent import DQNAgent, Config"
   ]
  },
  {
   "cell_type": "code",
   "execution_count": 4,
   "id": "f506d246",
   "metadata": {
    "scrolled": false
   },
   "outputs": [],
   "source": [
    "config = Config(target_update=10, \n",
    "                lr=0.01,\n",
    "#                 lr=0.001618033,\n",
    "                lr_min=0.001, \n",
    "                lr_decay=2000, \n",
    "                gamma=0.999,\n",
    "                loss='mse', \n",
    "                memory_size=10000, \n",
    "                batch_size=1000, \n",
    "                eps_start=1,\n",
    "#                 eps_start=0.1618033,\n",
    "                eps_min=0.05, \n",
    "                eps_decay=3000)\n",
    "\n",
    "#TEST\n",
    "# config = Config(target_update=10, \n",
    "#                 lr=0.001618033,\n",
    "# #                 lr=0.001618033,\n",
    "#                 lr_min=0.001618033, \n",
    "#                 lr_decay=1000, \n",
    "#                 gamma=0.618033,\n",
    "#                 loss='huber', \n",
    "#                 memory_size=261800, \n",
    "#                 batch_size=500, \n",
    "#                 eps_start=0.01,\n",
    "# #                 eps_start=0.1618033,\n",
    "#                 eps_min=0.01, \n",
    "#                 eps_decay=1000)\n",
    "\n",
    "\n",
    "# config = Config(target_update=10, \n",
    "#                 lr=0.001618033,\n",
    "#                 lr_min=0.001618033, \n",
    "#                 lr_decay=1000, \n",
    "#                 gamma=0.618033,\n",
    "#                 loss='huber', \n",
    "#                 memory_size=261800, \n",
    "#                 batch_size=500, \n",
    "#                 eps_start=0.01,\n",
    "# #                 eps_start=0.1618033,\n",
    "#                 eps_min=0.01, \n",
    "#                 eps_decay=1000)\n",
    "\n",
    "agent = DQNAgentOpen(env=env, config=config, id=\"1618\")"
   ]
  },
  {
   "cell_type": "code",
   "execution_count": 5,
   "id": "0f5fe95a",
   "metadata": {},
   "outputs": [],
   "source": [
    "# agent.load(r\"C:\\Users\\smonn\\Desktop\\DeepTrading\\src\\models\\1618-1652454506.pt\")"
   ]
  },
  {
   "cell_type": "code",
   "execution_count": null,
   "id": "85478902",
   "metadata": {
    "scrolled": false
   },
   "outputs": [
    {
     "name": "stderr",
     "output_type": "stream",
     "text": [
      "wandb: Currently logged in as: smonnier (use `wandb login --relogin` to force relogin)\n"
     ]
    },
    {
     "data": {
      "text/html": [
       "wandb version 0.12.16 is available!  To upgrade, please run:\n",
       " $ pip install wandb --upgrade"
      ],
      "text/plain": [
       "<IPython.core.display.HTML object>"
      ]
     },
     "metadata": {},
     "output_type": "display_data"
    },
    {
     "data": {
      "text/html": [
       "Tracking run with wandb version 0.12.14"
      ],
      "text/plain": [
       "<IPython.core.display.HTML object>"
      ]
     },
     "metadata": {},
     "output_type": "display_data"
    },
    {
     "data": {
      "text/html": [
       "Run data is saved locally in <code>C:\\Users\\smonn\\Desktop\\DeepTrading0\\wandb\\run-20220520_114315-1sulneb8</code>"
      ],
      "text/plain": [
       "<IPython.core.display.HTML object>"
      ]
     },
     "metadata": {},
     "output_type": "display_data"
    },
    {
     "data": {
      "text/html": [
       "Syncing run <strong><a href=\"https://wandb.ai/smonnier/DeepTrading/runs/1sulneb8\" target=\"_blank\">dry-snowball-655</a></strong> to <a href=\"https://wandb.ai/smonnier/DeepTrading\" target=\"_blank\">Weights & Biases</a> (<a href=\"https://wandb.me/run\" target=\"_blank\">docs</a>)<br/>"
      ],
      "text/plain": [
       "<IPython.core.display.HTML object>"
      ]
     },
     "metadata": {},
     "output_type": "display_data"
    },
    {
     "name": "stdout",
     "output_type": "stream",
     "text": [
      "Training episode: 368/3000\r"
     ]
    }
   ],
   "source": [
    "agent.fit(wandb_log=True)"
   ]
  },
  {
   "cell_type": "code",
   "execution_count": null,
   "id": "fa69bba1",
   "metadata": {
    "scrolled": false
   },
   "outputs": [
    {
     "data": {
      "text/html": [
       "Finishing last run (ID:16xxnp81) before initializing another..."
      ],
      "text/plain": [
       "<IPython.core.display.HTML object>"
      ]
     },
     "metadata": {},
     "output_type": "display_data"
    },
    {
     "name": "stdout",
     "output_type": "stream",
     "text": [
      "\n"
     ]
    },
    {
     "data": {
      "text/html": [
       "Waiting for W&B process to finish... <strong style=\"color:green\">(success).</strong>"
      ],
      "text/plain": [
       "<IPython.core.display.HTML object>"
      ]
     },
     "metadata": {},
     "output_type": "display_data"
    },
    {
     "data": {
      "application/vnd.jupyter.widget-view+json": {
       "model_id": "af67f4a4e4b84faab3a4b64e7dbe9a17",
       "version_major": 2,
       "version_minor": 0
      },
      "text/plain": [
       "VBox(children=(Label(value='0.001 MB of 0.001 MB uploaded (0.000 MB deduped)\\r'), FloatProgress(value=1.0, max…"
      ]
     },
     "metadata": {},
     "output_type": "display_data"
    },
    {
     "name": "stderr",
     "output_type": "stream",
     "text": [
      "wandb: ERROR Control-C detected -- Run data was not synced\n"
     ]
    },
    {
     "data": {
      "text/html": [
       "Successfully finished last run (ID:16xxnp81). Initializing new run:<br/>"
      ],
      "text/plain": [
       "<IPython.core.display.HTML object>"
      ]
     },
     "metadata": {},
     "output_type": "display_data"
    }
   ],
   "source": [
    "agent.evaluate(wandb_log=True)"
   ]
  },
  {
   "cell_type": "code",
   "execution_count": null,
   "id": "9e7950df",
   "metadata": {},
   "outputs": [],
   "source": []
  },
  {
   "cell_type": "code",
   "execution_count": null,
   "id": "a0463f6c",
   "metadata": {},
   "outputs": [],
   "source": []
  }
 ],
 "metadata": {
  "kernelspec": {
   "display_name": "Python 3.9 (deeptrading)",
   "language": "python",
   "name": "deeptrading"
  },
  "language_info": {
   "codemirror_mode": {
    "name": "ipython",
    "version": 3
   },
   "file_extension": ".py",
   "mimetype": "text/x-python",
   "name": "python",
   "nbconvert_exporter": "python",
   "pygments_lexer": "ipython3",
   "version": "3.9.7"
  }
 },
 "nbformat": 4,
 "nbformat_minor": 5
}
