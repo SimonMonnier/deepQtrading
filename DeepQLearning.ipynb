{
 "cells": [
  {
   "cell_type": "markdown",
   "id": "b5ef6fa6",
   "metadata": {},
   "source": [
    "### Import"
   ]
  },
  {
   "cell_type": "code",
   "execution_count": 1,
   "id": "c11c985e",
   "metadata": {},
   "outputs": [
    {
     "name": "stderr",
     "output_type": "stream",
     "text": [
      "C:\\Users\\smonn\\miniconda3\\envs\\deeptrading\\lib\\site-packages\\numpy\\_distributor_init.py:30: UserWarning: loaded more than 1 DLL from .libs:\n",
      "C:\\Users\\smonn\\miniconda3\\envs\\deeptrading\\lib\\site-packages\\numpy\\.libs\\libopenblas.EL2C6PLE4ZYW3ECEVIV3OXXGRN2NRFM2.gfortran-win_amd64.dll\n",
      "C:\\Users\\smonn\\miniconda3\\envs\\deeptrading\\lib\\site-packages\\numpy\\.libs\\libopenblas.WCDJNK7YVMPZQ2ME2ZZHJJRJ3JIKNDB7.gfortran-win_amd64.dll\n",
      "  warnings.warn(\"loaded more than 1 DLL from .libs:\"\n"
     ]
    }
   ],
   "source": [
    "from src.agent import DQNAgent, Config\n",
    "from src.trading import TradingEnv"
   ]
  },
  {
   "cell_type": "markdown",
   "id": "7a4f30a5",
   "metadata": {},
   "source": [
    "### Create Env"
   ]
  },
  {
   "cell_type": "code",
   "execution_count": 2,
   "id": "68db1bd9",
   "metadata": {},
   "outputs": [],
   "source": [
    "env = TradingEnv(\n",
    "    dataset_path='./data/eurusd_hour.csv',\n",
    "    spread=0.0002,\n",
    "    period=200, sold=1000,\n",
    "    min_sold=0, nlot=0.1,\n",
    "    episode_lenght=1)"
   ]
  },
  {
   "cell_type": "markdown",
   "id": "f7357c24",
   "metadata": {},
   "source": [
    "### Init and fit agent"
   ]
  },
  {
   "cell_type": "code",
   "execution_count": 3,
   "id": "065d2049",
   "metadata": {},
   "outputs": [],
   "source": [
    "from src.agent import DQNAgent, Config"
   ]
  },
  {
   "cell_type": "code",
   "execution_count": 5,
   "id": "f506d246",
   "metadata": {
    "scrolled": false
   },
   "outputs": [],
   "source": [
    "# config = Config(target_update=10, \n",
    "#                 lr=0.01,\n",
    "# #                 lr=0.001618033,\n",
    "#                 lr_min=0.001, \n",
    "#                 lr_decay=2000, \n",
    "#                 gamma=0.90,\n",
    "#                 loss='huber', \n",
    "#                 memory_size=161800, \n",
    "#                 batch_size=500, \n",
    "#                 eps_start=1,\n",
    "# #                 eps_start=0.1618033,\n",
    "#                 eps_min=0.01, \n",
    "#                 eps_decay=1800)\n",
    "\n",
    "#TEST\n",
    "# config = Config(target_update=10, \n",
    "#                 lr=0.001,\n",
    "# #                 lr=0.001618033,\n",
    "#                 lr_min=0.001, \n",
    "#                 lr_decay=2000, \n",
    "#                 gamma=0.01618033,\n",
    "#                 loss='huber', \n",
    "#                 memory_size=161800, \n",
    "#                 batch_size=30, \n",
    "#                 eps_start=0.01,\n",
    "# #                 eps_start=0.1618033,\n",
    "#                 eps_min=0.01, \n",
    "#                 eps_decay=1500)\n",
    "\n",
    "\n",
    "config = Config(target_update=10, \n",
    "                lr=0.01,\n",
    "#                 lr=0.001618033,\n",
    "                lr_min=0.001618033, \n",
    "                lr_decay=1000, \n",
    "                gamma=0.16180339887,\n",
    "                loss='huber', \n",
    "                memory_size=161800, \n",
    "                batch_size=500, \n",
    "                eps_start=1,\n",
    "#                 eps_start=0.1618033,\n",
    "                eps_min=0.01, \n",
    "                eps_decay=1000)\n",
    "\n",
    "agent = DQNAgent(env=env, config=config, id=\"1618\")"
   ]
  },
  {
   "cell_type": "code",
   "execution_count": 6,
   "id": "0f5fe95a",
   "metadata": {},
   "outputs": [],
   "source": [
    "agent.load(r\"C:\\Users\\smonn\\Desktop\\DeepTrading\\src\\models\\1618-1651689609.pt\")"
   ]
  },
  {
   "cell_type": "code",
   "execution_count": null,
   "id": "85478902",
   "metadata": {
    "scrolled": false
   },
   "outputs": [
    {
     "name": "stderr",
     "output_type": "stream",
     "text": [
      "wandb: Currently logged in as: smonnier (use `wandb login --relogin` to force relogin)\n"
     ]
    },
    {
     "data": {
      "text/html": [
       "wandb version 0.12.16 is available!  To upgrade, please run:\n",
       " $ pip install wandb --upgrade"
      ],
      "text/plain": [
       "<IPython.core.display.HTML object>"
      ]
     },
     "metadata": {},
     "output_type": "display_data"
    },
    {
     "data": {
      "text/html": [
       "Tracking run with wandb version 0.12.14"
      ],
      "text/plain": [
       "<IPython.core.display.HTML object>"
      ]
     },
     "metadata": {},
     "output_type": "display_data"
    },
    {
     "data": {
      "text/html": [
       "Run data is saved locally in <code>C:\\Users\\smonn\\Desktop\\DeepTrading\\wandb\\run-20220505_094227-1odlqcd7</code>"
      ],
      "text/plain": [
       "<IPython.core.display.HTML object>"
      ]
     },
     "metadata": {},
     "output_type": "display_data"
    },
    {
     "data": {
      "text/html": [
       "Syncing run <strong><a href=\"https://wandb.ai/smonnier/DeepTrading/runs/1odlqcd7\" target=\"_blank\">ancient-lightsaber-548</a></strong> to <a href=\"https://wandb.ai/smonnier/DeepTrading\" target=\"_blank\">Weights & Biases</a> (<a href=\"https://wandb.me/run\" target=\"_blank\">docs</a>)<br/>"
      ],
      "text/plain": [
       "<IPython.core.display.HTML object>"
      ]
     },
     "metadata": {},
     "output_type": "display_data"
    },
    {
     "name": "stdout",
     "output_type": "stream",
     "text": [
      "Training episode: 218/2000\r"
     ]
    }
   ],
   "source": [
    "agent.fit(wandb_log=True)"
   ]
  },
  {
   "cell_type": "code",
   "execution_count": null,
   "id": "fa69bba1",
   "metadata": {
    "scrolled": false
   },
   "outputs": [
    {
     "name": "stderr",
     "output_type": "stream",
     "text": [
      "wandb: Currently logged in as: smonnier (use `wandb login --relogin` to force relogin)\n"
     ]
    },
    {
     "data": {
      "text/html": [
       "wandb version 0.12.16 is available!  To upgrade, please run:\n",
       " $ pip install wandb --upgrade"
      ],
      "text/plain": [
       "<IPython.core.display.HTML object>"
      ]
     },
     "metadata": {},
     "output_type": "display_data"
    },
    {
     "data": {
      "text/html": [
       "Tracking run with wandb version 0.12.14"
      ],
      "text/plain": [
       "<IPython.core.display.HTML object>"
      ]
     },
     "metadata": {},
     "output_type": "display_data"
    },
    {
     "data": {
      "text/html": [
       "Run data is saved locally in <code>C:\\Users\\smonn\\Desktop\\DeepTrading\\wandb\\run-20220504_063343-iodhbvbs</code>"
      ],
      "text/plain": [
       "<IPython.core.display.HTML object>"
      ]
     },
     "metadata": {},
     "output_type": "display_data"
    },
    {
     "data": {
      "text/html": [
       "Syncing run <strong><a href=\"https://wandb.ai/smonnier/DeepTrading/runs/iodhbvbs\" target=\"_blank\">true-snowball-534</a></strong> to <a href=\"https://wandb.ai/smonnier/DeepTrading\" target=\"_blank\">Weights & Biases</a> (<a href=\"https://wandb.me/run\" target=\"_blank\">docs</a>)<br/>"
      ],
      "text/plain": [
       "<IPython.core.display.HTML object>"
      ]
     },
     "metadata": {},
     "output_type": "display_data"
    },
    {
     "name": "stdout",
     "output_type": "stream",
     "text": [
      "Training episode: 2000/2000\n"
     ]
    },
    {
     "data": {
      "text/html": [
       "Waiting for W&B process to finish... <strong style=\"color:green\">(success).</strong>"
      ],
      "text/plain": [
       "<IPython.core.display.HTML object>"
      ]
     },
     "metadata": {},
     "output_type": "display_data"
    },
    {
     "data": {
      "application/vnd.jupyter.widget-view+json": {
       "model_id": "",
       "version_major": 2,
       "version_minor": 0
      },
      "text/plain": [
       "VBox(children=(Label(value='0.001 MB of 0.001 MB uploaded (0.000 MB deduped)\\r'), FloatProgress(value=1.0, max…"
      ]
     },
     "metadata": {},
     "output_type": "display_data"
    },
    {
     "data": {
      "text/html": [
       "<style>\n",
       "    table.wandb td:nth-child(1) { padding: 0 10px; text-align: right }\n",
       "    .wandb-row { display: flex; flex-direction: row; flex-wrap: wrap; width: 100% }\n",
       "    .wandb-col { display: flex; flex-direction: column; flex-basis: 100%; flex: 1; padding: 10px; }\n",
       "    </style>\n",
       "<div class=\"wandb-row\"><div class=\"wandb-col\"><h3>Run history:</h3><br/><table class=\"wandb\"><tr><td>Buy</td><td>█▇▆██▇██▆▅▃██▆██▇██▄▄█████▁▃█▅██▃▅██████</td></tr><tr><td>Close</td><td>▅▄▅▃▃▄▆▄▃▄▅▆▅▃▆▅▄▃▄▄▃▇▆▅▄▅▁▃▄▄▅▃▃▂▄█▅▆▃▅</td></tr><tr><td>Hold</td><td>▅▂▅▄▄▄▅▅▅▂▁▅▄▃▇█▅▄▄▃▃▇█▇▃▄▁▃▄▅▆▄▂▂▅▅▂▄▆▄</td></tr><tr><td>Sell</td><td>▇▇▂▅▅▄▅▄▄▂▂▂▅▃▅▃▄▄▂▂▄▇▇▄▅▄▁▃▇▃▆▂▁▄▃█▇▄▅▆</td></tr><tr><td>Total trade</td><td>▇█▅▄▆█▇▁▄▃▄▁█▆▅▆▅▃▂▄▅▅██▄▆▃▅▄▅▃▅▅▄▅▇▄▅▇▅</td></tr><tr><td>Trade Sold</td><td>▂▁▁▂▂▁▃▃▁▁▁█▆▁▄▆▁▃▅▁▁▅▂▅▃▂▁▁▂▁▃▅▁▁▃▃▃▄▄▂</td></tr><tr><td>duration</td><td>█▇▆██▇██▆▅▃██▆██▇██▄▄█████▁▄█▆██▃▅██████</td></tr><tr><td>epsilon</td><td>▁▁▁▁▁▁▁▁▁▁▁▁▁▁▁▁▁▁▁▁▁▁▁▁▁▁▁▁▁▁▁▁▁▁▁▁▁▁▁▁</td></tr><tr><td>learning_rate</td><td>▁▁▁▁▁▁▁▁▁▁▁▁▁▁▁▁▁▁▁▁▁▁▁▁▁▁▁▁▁▁▁▁▁▁▁▁▁▁▁▁</td></tr><tr><td>reward</td><td>█▁▂██▁██▂▃▄██▂██▁██▃▃█████▅▃█▂██▄▃██████</td></tr><tr><td>solde</td><td>▂▁▁▂▂▁▃▃▁▁▁█▆▁▄▆▁▃▅▁▁▅▂▅▃▂▁▁▂▁▃▄▁▁▃▃▃▄▄▂</td></tr><tr><td>total_benefice</td><td>▁▁▁▁▂▂▂▃▃▃▃▃▄▄▄▄▄▅▅▄▅▅▅▆▆▆▆▆▆▆▆▆▇▇▇▇▇▇██</td></tr></table><br/></div><div class=\"wandb-col\"><h3>Run summary:</h3><br/><table class=\"wandb\"><tr><td>Buy</td><td>257</td></tr><tr><td>Close</td><td>1</td></tr><tr><td>Hold</td><td>1</td></tr><tr><td>Sell</td><td>1</td></tr><tr><td>Total trade</td><td>134</td></tr><tr><td>Trade Sold</td><td>468.0</td></tr><tr><td>duration</td><td>259</td></tr><tr><td>epsilon</td><td>0.02</td></tr><tr><td>learning_rate</td><td>0.001</td></tr><tr><td>reward</td><td>-112980</td></tr><tr><td>solde</td><td>494.5</td></tr><tr><td>total_benefice</td><td>121061.0</td></tr></table><br/></div></div>"
      ],
      "text/plain": [
       "<IPython.core.display.HTML object>"
      ]
     },
     "metadata": {},
     "output_type": "display_data"
    },
    {
     "data": {
      "text/html": [
       "Synced <strong style=\"color:#cdcd00\">true-snowball-534</strong>: <a href=\"https://wandb.ai/smonnier/DeepTrading/runs/iodhbvbs\" target=\"_blank\">https://wandb.ai/smonnier/DeepTrading/runs/iodhbvbs</a><br/>Synced 5 W&B file(s), 0 media file(s), 0 artifact file(s) and 0 other file(s)"
      ],
      "text/plain": [
       "<IPython.core.display.HTML object>"
      ]
     },
     "metadata": {},
     "output_type": "display_data"
    },
    {
     "data": {
      "text/html": [
       "Find logs at: <code>.\\wandb\\run-20220504_063343-iodhbvbs\\logs</code>"
      ],
      "text/plain": [
       "<IPython.core.display.HTML object>"
      ]
     },
     "metadata": {},
     "output_type": "display_data"
    },
    {
     "name": "stdout",
     "output_type": "stream",
     "text": [
      "Model saved as: 1618-1651638817.pt\n",
      "Model saved as: 1618-1651638817.pt\n",
      "Model saved as: 1618-1651638817.pt\n",
      "Model saved as: 1618-1651638817.pt\n",
      "Model saved as: 1618-1651638817.pt\n",
      "Model saved as: 1618-1651638817.pt\n",
      "Model saved as: 1618-1651638817.pt\n",
      "Model saved as: 1618-1651638817.pt\n",
      "Model saved as: 1618-1651638817.pt\n",
      "Model saved as: 1618-1651638817.pt\n",
      "Model saved as: 1618-1651638817.pt\n",
      "Model saved as: 1618-1651638817.pt\n",
      "Model saved as: 1618-1651638817.pt\n",
      "Model saved as: 1618-1651638817.pt\n",
      "Model saved as: 1618-1651638817.pt\n",
      "Model saved as: 1618-1651638817.pt\n",
      "Model saved as: 1618-1651638817.pt\n",
      "Model saved as: 1618-1651638817.pt\n",
      "Model saved as: 1618-1651638817.pt\n",
      "Model saved as: 1618-1651638817.pt\n",
      "Model saved as: 1618-1651638817.pt\n",
      "Model saved as: 1618-1651638817.pt\n",
      "Model saved as: 1618-1651638817.pt\n",
      "Model saved as: 1618-1651638817.pt\n",
      "Model saved as: 1618-1651638817.pt\n",
      "Model saved as: 1618-1651638817.pt\n",
      "Model saved as: 1618-1651638817.pt\n",
      "Model saved as: 1618-1651638817.pt\n",
      "Model saved as: 1618-1651638817.pt\n",
      "Model saved as: 1618-1651638817.pt\n",
      "Model saved as: 1618-1651638817.pt\n",
      "Model saved as: 1618-1651638817.pt\n",
      "Model saved as: 1618-1651638817.pt\n",
      "Model saved as: 1618-1651638817.pt\n",
      "Model saved as: 1618-1651638817.pt\n",
      "Model saved as: 1618-1651638817.pt\n",
      "Model saved as: 1618-1651638817.pt\n",
      "Model saved as: 1618-1651638817.pt\n",
      "Model saved as: 1618-1651638817.pt\n",
      "Model saved as: 1618-1651638817.pt\n",
      "Model saved as: 1618-1651638817.pt\n",
      "Model saved as: 1618-1651638817.pt\n",
      "Model saved as: 1618-1651638817.pt\n",
      "Model saved as: 1618-1651638817.pt\n",
      "Model saved as: 1618-1651638817.pt\n",
      "Model saved as: 1618-1651638817.pt\n",
      "Model saved as: 1618-1651638817.pt\n",
      "Training episode: 89/2000\r"
     ]
    }
   ],
   "source": [
    "agent.evaluate(wandb_log=True)"
   ]
  },
  {
   "cell_type": "code",
   "execution_count": null,
   "id": "9e7950df",
   "metadata": {},
   "outputs": [],
   "source": []
  },
  {
   "cell_type": "code",
   "execution_count": null,
   "id": "a0463f6c",
   "metadata": {},
   "outputs": [],
   "source": []
  }
 ],
 "metadata": {
  "kernelspec": {
   "display_name": "Python 3.9 (deeptrading)",
   "language": "python",
   "name": "deeptrading"
  },
  "language_info": {
   "codemirror_mode": {
    "name": "ipython",
    "version": 3
   },
   "file_extension": ".py",
   "mimetype": "text/x-python",
   "name": "python",
   "nbconvert_exporter": "python",
   "pygments_lexer": "ipython3",
   "version": "3.9.7"
  }
 },
 "nbformat": 4,
 "nbformat_minor": 5
}
