{
 "cells": [
  {
   "cell_type": "markdown",
   "id": "b5ef6fa6",
   "metadata": {},
   "source": [
    "### Import"
   ]
  },
  {
   "cell_type": "code",
   "execution_count": 8,
   "id": "515429d9",
   "metadata": {},
   "outputs": [
    {
     "name": "stdout",
     "output_type": "stream",
     "text": [
      " Le volume dans le lecteur C n'a pas de nom.\n",
      " Le num‚ro de s‚rie du volume est 8ABA-9999\n",
      "\n",
      " R‚pertoire de C:\\Users\\smonn\\Desktop\\DeepTrading\\src\n",
      "\n",
      "07/04/2022  09:44    <DIR>          .\n",
      "07/04/2022  09:55    <DIR>          ..\n",
      "01/04/2022  16:26                 0 __init__.py\n",
      "03/04/2022  19:05    <DIR>          __pycache__\n",
      "03/04/2022  19:03             1ÿ421 DQN.py\n",
      "02/04/2022  20:38               714 memory.py\n",
      "03/04/2022  00:06               620 model.py\n",
      "07/04/2022  09:51             5ÿ187 trading.py\n",
      "               5 fichier(s)            7ÿ942 octets\n",
      "               3 R‚p(s)  248ÿ115ÿ924ÿ992 octets libres\n",
      "C:\\Users\\smonn\\Desktop\\DeepTrading\n"
     ]
    },
    {
     "data": {
      "text/plain": [
       "'C:\\\\Users\\\\smonn\\\\Desktop\\\\DeepTrading'"
      ]
     },
     "execution_count": 8,
     "metadata": {},
     "output_type": "execute_result"
    }
   ],
   "source": [
    "%pwd\n",
    "%ls\n",
    "%cd \"C:\\Users\\smonn\\Desktop\\DeepTrading\\\"\n",
    "%pwd"
   ]
  },
  {
   "cell_type": "code",
   "execution_count": 1,
   "id": "c11c985e",
   "metadata": {},
   "outputs": [],
   "source": [
    "from src.agent import DQNAgent, Config\n",
    "from src.trading import TradingEnv"
   ]
  },
  {
   "cell_type": "markdown",
   "id": "7a4f30a5",
   "metadata": {},
   "source": [
    "### Create Env"
   ]
  },
  {
   "cell_type": "code",
   "execution_count": 2,
   "id": "68db1bd9",
   "metadata": {},
   "outputs": [],
   "source": [
    "env = TradingEnv(\n",
    "    dataset_path='./data/eurusd_minute.csv',\n",
    "    spread=0.0002,\n",
    "    period=26, sold=10000,\n",
    "    min_sold=2500, nlot=0.1,\n",
    "    episode_lenght=5)"
   ]
  },
  {
   "cell_type": "markdown",
   "id": "f7357c24",
   "metadata": {},
   "source": [
    "### Init and fit agent"
   ]
  },
  {
   "cell_type": "code",
   "execution_count": 3,
   "id": "065d2049",
   "metadata": {},
   "outputs": [],
   "source": [
    "from src.agent import DQNAgent, Config"
   ]
  },
  {
   "cell_type": "code",
   "execution_count": null,
   "id": "f506d246",
   "metadata": {
    "scrolled": false
   },
   "outputs": [
    {
     "name": "stderr",
     "output_type": "stream",
     "text": [
      "wandb: Currently logged in as: smonnier (use `wandb login --relogin` to force relogin)\n"
     ]
    },
    {
     "data": {
      "text/html": [
       "wandb version 0.12.12 is available!  To upgrade, please run:\n",
       " $ pip install wandb --upgrade"
      ],
      "text/plain": [
       "<IPython.core.display.HTML object>"
      ]
     },
     "metadata": {},
     "output_type": "display_data"
    },
    {
     "data": {
      "text/html": [
       "Tracking run with wandb version 0.12.11"
      ],
      "text/plain": [
       "<IPython.core.display.HTML object>"
      ]
     },
     "metadata": {},
     "output_type": "display_data"
    },
    {
     "data": {
      "text/html": [
       "Run data is saved locally in <code>C:\\Users\\smonn\\Desktop\\DeepTrading\\wandb\\run-20220407_113807-37tkqvtx</code>"
      ],
      "text/plain": [
       "<IPython.core.display.HTML object>"
      ]
     },
     "metadata": {},
     "output_type": "display_data"
    },
    {
     "data": {
      "text/html": [
       "Syncing run <strong><a href=\"https://wandb.ai/smonnier/DeepTrading/runs/37tkqvtx\" target=\"_blank\">eager-bee-2</a></strong> to <a href=\"https://wandb.ai/smonnier/DeepTrading\" target=\"_blank\">Weights & Biases</a> (<a href=\"https://wandb.me/run\" target=\"_blank\">docs</a>)<br/>"
      ],
      "text/plain": [
       "<IPython.core.display.HTML object>"
      ]
     },
     "metadata": {},
     "output_type": "display_data"
    },
    {
     "name": "stdout",
     "output_type": "stream",
     "text": [
      "Training episode: 1/5000\r"
     ]
    },
    {
     "name": "stderr",
     "output_type": "stream",
     "text": [
      "C:\\Users\\smonn\\Desktop\\DeepTrading\\src\\agent.py:117: UserWarning: Creating a tensor from a list of numpy.ndarrays is extremely slow. Please consider converting the list to a single numpy.ndarray with numpy.array() before converting to a tensor. (Triggered internally at  C:\\cb\\pytorch_1000000000000\\work\\torch\\csrc\\utils\\tensor_new.cpp:210.)\n",
      "  experience = Experience(torch.tensor([state], device=self.device),\n"
     ]
    },
    {
     "name": "stdout",
     "output_type": "stream",
     "text": [
      "Training episode: 3/5000\r"
     ]
    }
   ],
   "source": [
    "config = Config(target_update=10, \n",
    "                lr=0.01, \n",
    "                lr_min=0.001, \n",
    "                lr_decay=2000, \n",
    "                gamma=0.99,\n",
    "                loss='mse', \n",
    "                memory_size=50000, \n",
    "                batch_size=128, \n",
    "                eps_start=1, \n",
    "                eps_min=0.01, \n",
    "                eps_decay=3000)\n",
    "agent = DQNAgent(env=env, config=config)\n",
    "agent.fit(wandb_log=True)"
   ]
  },
  {
   "cell_type": "code",
   "execution_count": null,
   "id": "6955c5f3",
   "metadata": {},
   "outputs": [],
   "source": []
  },
  {
   "cell_type": "code",
   "execution_count": null,
   "id": "2e864b9d",
   "metadata": {},
   "outputs": [],
   "source": []
  }
 ],
 "metadata": {
  "kernelspec": {
   "display_name": "Python 3.9 (deeptrading)",
   "language": "python",
   "name": "deeptrading"
  },
  "language_info": {
   "codemirror_mode": {
    "name": "ipython",
    "version": 3
   },
   "file_extension": ".py",
   "mimetype": "text/x-python",
   "name": "python",
   "nbconvert_exporter": "python",
   "pygments_lexer": "ipython3",
   "version": "3.9.7"
  }
 },
 "nbformat": 4,
 "nbformat_minor": 5
}
