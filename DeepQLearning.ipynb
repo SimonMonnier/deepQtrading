{
 "cells": [
  {
   "cell_type": "markdown",
   "id": "b5ef6fa6",
   "metadata": {},
   "source": [
    "### Import"
   ]
  },
  {
   "cell_type": "code",
   "execution_count": 1,
   "id": "c11c985e",
   "metadata": {},
   "outputs": [],
   "source": [
    "from src.agent import DQNAgent, Config\n",
    "from src.trading import TradingEnv"
   ]
  },
  {
   "cell_type": "markdown",
   "id": "7a4f30a5",
   "metadata": {},
   "source": [
    "### Create Env"
   ]
  },
  {
   "cell_type": "code",
   "execution_count": 2,
   "id": "68db1bd9",
   "metadata": {},
   "outputs": [],
   "source": [
    "env = TradingEnv(\n",
    "    dataset_path='./data/eurusd_minute.csv',\n",
    "    spread=0.0002,\n",
    "    period=26, sold=10000,\n",
    "    min_sold=2500, nlot=0.1,\n",
    "    episode_lenght=1)"
   ]
  },
  {
   "cell_type": "markdown",
   "id": "f7357c24",
   "metadata": {},
   "source": [
    "### Init and fit agent"
   ]
  },
  {
   "cell_type": "code",
   "execution_count": 3,
   "id": "065d2049",
   "metadata": {},
   "outputs": [],
   "source": [
    "from src.agent import DQNAgent, Config"
   ]
  },
  {
   "cell_type": "code",
   "execution_count": null,
   "id": "f506d246",
   "metadata": {
    "scrolled": false
   },
   "outputs": [
    {
     "name": "stderr",
     "output_type": "stream",
     "text": [
      "wandb: Currently logged in as: smonnier (use `wandb login --relogin` to force relogin)\n"
     ]
    },
    {
     "data": {
      "text/html": [
       "Tracking run with wandb version 0.12.13"
      ],
      "text/plain": [
       "<IPython.core.display.HTML object>"
      ]
     },
     "metadata": {},
     "output_type": "display_data"
    },
    {
     "data": {
      "text/html": [
       "Run data is saved locally in <code>C:\\Users\\smonn\\Desktop\\DeepTrading\\wandb\\run-20220407_214821-1tsjj13z</code>"
      ],
      "text/plain": [
       "<IPython.core.display.HTML object>"
      ]
     },
     "metadata": {},
     "output_type": "display_data"
    },
    {
     "data": {
      "text/html": [
       "Syncing run <strong><a href=\"https://wandb.ai/smonnier/DeepTrading/runs/1tsjj13z\" target=\"_blank\">pretty-rain-10</a></strong> to <a href=\"https://wandb.ai/smonnier/DeepTrading\" target=\"_blank\">Weights & Biases</a> (<a href=\"https://wandb.me/run\" target=\"_blank\">docs</a>)<br/>"
      ],
      "text/plain": [
       "<IPython.core.display.HTML object>"
      ]
     },
     "metadata": {},
     "output_type": "display_data"
    },
    {
     "name": "stdout",
     "output_type": "stream",
     "text": [
      "Training episode: 525/5000\r"
     ]
    }
   ],
   "source": [
    "config = Config(target_update=10, \n",
    "                lr=0.01, \n",
    "                lr_min=0.001, \n",
    "                lr_decay=3500, \n",
    "                gamma=0.99,\n",
    "                loss='mse', \n",
    "                memory_size=161803, \n",
    "                batch_size=161, \n",
    "                eps_start=1, \n",
    "                eps_min=0.01, \n",
    "                eps_decay=4000)\n",
    "agent = DQNAgent(env=env, config=config)\n",
    "agent.fit(wandb_log=True)"
   ]
  },
  {
   "cell_type": "code",
   "execution_count": null,
   "id": "64d85e1c",
   "metadata": {},
   "outputs": [],
   "source": []
  }
 ],
 "metadata": {
  "kernelspec": {
   "display_name": "Python 3.9 (deeptrading)",
   "language": "python",
   "name": "deeptrading"
  },
  "language_info": {
   "codemirror_mode": {
    "name": "ipython",
    "version": 3
   },
   "file_extension": ".py",
   "mimetype": "text/x-python",
   "name": "python",
   "nbconvert_exporter": "python",
   "pygments_lexer": "ipython3",
   "version": "3.9.7"
  }
 },
 "nbformat": 4,
 "nbformat_minor": 5
}
